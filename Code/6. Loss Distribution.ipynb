{
 "cells": [
  {
   "cell_type": "code",
   "execution_count": 1,
   "metadata": {},
   "outputs": [],
   "source": [
    "import pandas as pd\n",
    "import numpy as np\n",
    "import math\n",
    "from sklearn.ensemble import RandomForestRegressor\n",
    "from sklearn.ensemble import RandomForestClassifier\n",
    "import matplotlib.pyplot as plt\n",
    "import pickle\n",
    "import seaborn as sns"
   ]
  },
  {
   "cell_type": "code",
   "execution_count": 2,
   "metadata": {},
   "outputs": [],
   "source": [
    "loaded_classifier = pickle.load(open('classifier_model.sav', 'rb'))\n",
    "loaded_regressor = pickle.load(open('regressor_model.sav', 'rb'))"
   ]
  },
  {
   "cell_type": "code",
   "execution_count": 98,
   "metadata": {},
   "outputs": [],
   "source": [
    "df_simulation_5 = pd.read_csv('version_2/Predict500_5yr.csv')\n",
    "df_simulation_10 = pd.read_csv('version_2/Predict500_10yr.csv')"
   ]
  },
  {
   "cell_type": "code",
   "execution_count": 99,
   "metadata": {},
   "outputs": [
    {
     "data": {
      "text/plain": [
       "10.225828729281767"
      ]
     },
     "execution_count": 99,
     "metadata": {},
     "output_type": "execute_result"
    }
   ],
   "source": [
    "default_count = df_simulation_5.groupby('simulation')['simulation'].count()\n",
    "default_count.mean()"
   ]
  },
  {
   "cell_type": "code",
   "execution_count": 100,
   "metadata": {},
   "outputs": [
    {
     "data": {
      "text/plain": [
       "18.684827586206897"
      ]
     },
     "execution_count": 100,
     "metadata": {},
     "output_type": "execute_result"
    }
   ],
   "source": [
    "default_count = df_simulation_10.groupby('simulation')['simulation'].count()\n",
    "default_count.mean()"
   ]
  },
  {
   "cell_type": "markdown",
   "metadata": {},
   "source": [
    "### Format"
   ]
  },
  {
   "cell_type": "code",
   "execution_count": 101,
   "metadata": {},
   "outputs": [],
   "source": [
    "df_simulation_5 = df_simulation_5.fillna(df_simulation_5.mean())\n",
    "df_simulation_10 = df_simulation_10.fillna(df_simulation_10.mean())"
   ]
  },
  {
   "cell_type": "code",
   "execution_count": 102,
   "metadata": {},
   "outputs": [],
   "source": [
    "df_simulation_5 = df_simulation_5.drop(columns=['Unnamed: 0','loan'])\n",
    "df_simulation_10 = df_simulation_10.drop(columns=['Unnamed: 0','loan'])\n",
    "df_simulation_5 = df_simulation_5.rename(columns={\"age\": \"loan_age\",\"SP500\": \"S&P500\"})\n",
    "df_simulation_10 = df_simulation_10.rename(columns={\"age\": \"loan_age\",\"SP500\": \"S&P500\"})"
   ]
  },
  {
   "cell_type": "code",
   "execution_count": 103,
   "metadata": {},
   "outputs": [],
   "source": [
    "df = pd.read_csv('loss_dataset.csv')\n",
    "df['ChargeOffDate'] = pd.to_datetime(df['ChargeOffDate'])\n",
    "df['ApprovalDate'] = pd.to_datetime(df['ApprovalDate'])\n",
    "df['loan_age'] = (df['ChargeOffDate'] - df['ApprovalDate'])/np.timedelta64(1, 'M')\n",
    "df['loss_pcrt'] = df['GrossChargeOffAmount'] / df['GrossApproval']\n",
    "df = df.drop(columns=['Unnamed: 0','LoanStatus','log_amount','end_date','quarter_index','ApprovalDate','ChargeOffDate',\n",
    "                      'ChargeOffDate','time','status','id','death','time_start','time_end','ApprovalYear','EndYear',\n",
    "                     'BorrState','indicator_Leverage','indicator_HPI','indicator_IndustryGDP',\n",
    "                     'indicator_UnemploymentRate', 'indicator_PersonalIncome',\n",
    "                     'indicator_GSP','indicator_NaicsCode','Unnamed: 0.1','GrossChargeOffAmount','loss_pcrt'])\n",
    "cols = list(df.columns)\n",
    "df['simulation'] = 1000000000\n",
    "cols = ['simulation']  + cols\n",
    "df = df[cols]"
   ]
  },
  {
   "cell_type": "code",
   "execution_count": 104,
   "metadata": {},
   "outputs": [],
   "source": [
    "df_simulation_5 = df_simulation_5[cols]\n",
    "df_simulation_10 = df_simulation_10[cols]\n",
    "df_simulation_5 = pd.concat([df_simulation_5,df])\n",
    "df_simulation_10 = pd.concat([df_simulation_10,df])\n",
    "df_simulation_5 = pd.get_dummies(df_simulation_5)\n",
    "df_simulation_10 = pd.get_dummies(df_simulation_10)\n",
    "df_simulation_5 = df_simulation_5[df_simulation_5['simulation']!=1000000000]\n",
    "df_simulation_10 = df_simulation_10[df_simulation_10['simulation']!=1000000000]\n",
    "df_simulation_5 = df_simulation_5.reset_index()\n",
    "df_simulation_10 = df_simulation_10.reset_index()\n",
    "df_simulation_5 = df_simulation_5.drop(columns=['index'])\n",
    "df_simulation_10 = df_simulation_10.drop(columns=['index'])"
   ]
  },
  {
   "cell_type": "markdown",
   "metadata": {},
   "source": [
    "### Loss "
   ]
  },
  {
   "cell_type": "code",
   "execution_count": 105,
   "metadata": {},
   "outputs": [],
   "source": [
    "def calculate_loss(df,clf,regr):\n",
    "    loss = []\n",
    "    simulation_id_list = df['simulation'].unique()\n",
    "    for simulation_id in simulation_id_list:\n",
    "        sub = df[df['simulation']==simulation_id]\n",
    "        sub = sub.reset_index()\n",
    "        X = sub.iloc[:,3:]\n",
    "        Y = sub['GrossApproval']\n",
    "        prediction_recovery = clf.predict_proba(X)[:,1]\n",
    "        prediction_loss = regr.predict(X)\n",
    "        y_pred_recovery = [1 if x < 0.55 else 0 for x in prediction_recovery]\n",
    "        y_pred_loss = np.array(y_pred_recovery) * np.array(prediction_loss) * np.array(Y)\n",
    "        loss.append(sum(y_pred_loss))\n",
    "    return loss"
   ]
  },
  {
   "cell_type": "code",
   "execution_count": 106,
   "metadata": {},
   "outputs": [],
   "source": [
    "loss_5 = calculate_loss(df_simulation_5,loaded_classifier,loaded_regressor)"
   ]
  },
  {
   "cell_type": "code",
   "execution_count": 107,
   "metadata": {},
   "outputs": [],
   "source": [
    "loss_10 = calculate_loss(df_simulation_10,loaded_classifier,loaded_regressor)"
   ]
  },
  {
   "cell_type": "code",
   "execution_count": 108,
   "metadata": {},
   "outputs": [],
   "source": [
    "label = ['5 year' for i in range(len(loss_5))]\n",
    "label2 = ['10 year' for i in range(len(loss_10))]\n",
    "label.extend(label2)"
   ]
  },
  {
   "cell_type": "code",
   "execution_count": 109,
   "metadata": {},
   "outputs": [],
   "source": [
    "loss = loss_5[:]\n",
    "loss.extend(loss_10)"
   ]
  },
  {
   "cell_type": "code",
   "execution_count": 110,
   "metadata": {},
   "outputs": [],
   "source": [
    "df_loss = pd.DataFrame()\n",
    "df_loss['period'] = label\n",
    "df_loss['loss'] = loss"
   ]
  },
  {
   "cell_type": "code",
   "execution_count": 128,
   "metadata": {},
   "outputs": [
    {
     "data": {
      "text/plain": [
       "<seaborn.axisgrid.FacetGrid at 0x7ff359bda550>"
      ]
     },
     "execution_count": 128,
     "metadata": {},
     "output_type": "execute_result"
    },
    {
     "data": {
      "image/png": "[encoded data removed]",
      "text/plain": [
       "<Figure size 434.125x360 with 1 Axes>"
      ]
     },
     "metadata": {
      "needs_background": "light"
     },
     "output_type": "display_data"
    }
   ],
   "source": [
    "sns.displot(df_loss, x=\"loss\", hue=\"period\")\n",
    "##plt.title('Loss Distribution over 5 and 10 Year')"
   ]
  },
  {
   "cell_type": "code",
   "execution_count": 129,
   "metadata": {},
   "outputs": [],
   "source": [
    "loss_list = loss[:]\n",
    "loss_list = np.sort(loss_list)"
   ]
  },
  {
   "cell_type": "code",
   "execution_count": 130,
   "metadata": {},
   "outputs": [],
   "source": [
    "def get_VaR(loss,quantile):\n",
    "    loss_list = []\n",
    "    avg_loss_list = []\n",
    "    n = len(loss)\n",
    "    for i in range(1000):\n",
    "        loss_copy = loss[:]\n",
    "        loss_copy = np.random.choice(loss_copy,size=n,replace=True)\n",
    "        loss_copy = np.sort(loss_copy)\n",
    "        loss_quantile = loss_copy[int(n*quantile)]\n",
    "        avg_loss = loss_copy[int(n*quantile):]\n",
    "        loss_list.append(loss_quantile)\n",
    "        avg_loss_list.append(np.mean(avg_loss))\n",
    "    var_mean = np.mean(loss_list)\n",
    "    var_upper = var_mean + 1.96 * np.std(loss_list)\n",
    "    var_lower = var_mean - 1.96 * np.std(loss_list)\n",
    "    avar_mean = np.mean(avg_loss_list)\n",
    "    avar_upper = avar_mean + 1.96 * np.std(avg_loss_list)\n",
    "    avar_lower = avar_mean - 1.96 * np.std(avg_loss_list)\n",
    "    return var_mean,var_upper,var_lower,avar_mean,avar_upper,avar_lower"
   ]
  },
  {
   "cell_type": "code",
   "execution_count": 131,
   "metadata": {},
   "outputs": [],
   "source": [
    "loss_5_var_95, loss_5_var_95_upper,loss_5_var_95_lower,loss_5_avar_95, loss_5_avar_95_upper,loss_5_avar_95_lower = get_VaR(loss_5,0.95)\n",
    "loss_5_var_99, loss_5_var_99_upper,loss_5_var_99_lower,loss_5_avar_99, loss_5_avar_99_upper,loss_5_avar_99_lower = get_VaR(loss_5,0.99)\n",
    "loss_10_var_95, loss_10_var_95_upper,loss_10_var_95_lower,loss_10_avar_95, loss_10_avar_95_upper,loss_10_avar_95_lower = get_VaR(loss_10,0.95)\n",
    "loss_10_var_99, loss_10_var_99_upper,loss_10_var_99_lower,loss_10_avar_99, loss_10_avar_99_upper,loss_10_avar_99_lower = get_VaR(loss_10,0.99)"
   ]
  },
  {
   "cell_type": "code",
   "execution_count": 132,
   "metadata": {},
   "outputs": [
    {
     "name": "stdout",
     "output_type": "stream",
     "text": [
      "9907483.17293158 10437404.887577374 9377561.458285786\n",
      "13779522.026881274 14691635.746537149 12867408.307225399\n",
      "16753887.572478835 17582107.685639985 15925667.459317684\n",
      "21802143.24375989 23232972.16767735 20371314.319842428\n"
     ]
    }
   ],
   "source": [
    "print(loss_5_var_95, loss_5_var_95_upper,loss_5_var_95_lower)\n",
    "print(loss_5_var_99, loss_5_var_99_upper,loss_5_var_99_lower)\n",
    "print(loss_10_var_95, loss_10_var_95_upper,loss_10_var_95_lower)\n",
    "print(loss_10_var_99, loss_10_var_99_upper,loss_10_var_99_lower)"
   ]
  },
  {
   "cell_type": "code",
   "execution_count": 133,
   "metadata": {},
   "outputs": [
    {
     "name": "stdout",
     "output_type": "stream",
     "text": [
      "12212593.104516855 12934044.511402661 11491141.697631048\n",
      "15393032.914703583 16677618.063048176 14108447.76635899\n",
      "19868831.766551923 20797252.529849134 18940411.00325471\n",
      "24321598.71217244 26062775.417601697 22580422.006743185\n"
     ]
    }
   ],
   "source": [
    "print(loss_5_avar_95, loss_5_avar_95_upper,loss_5_avar_95_lower)\n",
    "print(loss_5_avar_99, loss_5_avar_99_upper,loss_5_avar_99_lower)\n",
    "print(loss_10_avar_95, loss_10_avar_95_upper,loss_10_avar_95_lower)\n",
    "print(loss_10_avar_99, loss_10_avar_99_upper,loss_10_avar_99_lower)"
   ]
  },
  {
   "cell_type": "code",
   "execution_count": 134,
   "metadata": {},
   "outputs": [],
   "source": [
    "def get_tranche(loss,lower,upper):\n",
    "    loss_list = []\n",
    "    for l in loss:\n",
    "        if l>=lower:\n",
    "            loss_list.append(min(upper,l)-lower)\n",
    "        else:\n",
    "            loss_list.append(0)\n",
    "    return loss_list"
   ]
  },
  {
   "cell_type": "code",
   "execution_count": 141,
   "metadata": {},
   "outputs": [],
   "source": [
    "df_portfolio = pd.read_csv('time_varing_portfolio_500_loans.csv')\n",
    "df_portfolio = df_portfolio.drop_duplicates(subset=['id'], keep='last')\n",
    "TotalApproval = df_portfolio['GrossApproval'].sum()"
   ]
  },
  {
   "cell_type": "code",
   "execution_count": 142,
   "metadata": {},
   "outputs": [],
   "source": [
    "tranche_5 = TotalApproval * 0.05\n",
    "tranche_15 = TotalApproval * 0.15\n",
    "junior_loss_5 = get_tranche(loss_5,tranche_5,tranche_15)\n",
    "senior_loss_5 = get_tranche(loss_5,tranche_5,TotalApproval)\n",
    "junior_loss_10 = get_tranche(loss_10,tranche_5,tranche_15)\n",
    "senior_loss_10 = get_tranche(loss_10,tranche_15,TotalApproval)"
   ]
  },
  {
   "cell_type": "code",
   "execution_count": 143,
   "metadata": {},
   "outputs": [],
   "source": [
    "label = ['5 year' for i in range(len(junior_loss_5))]\n",
    "label2 = ['10 year' for i in range(len(junior_loss_10))]\n",
    "label.extend(label2)\n",
    "\n",
    "loss = junior_loss_5[:]\n",
    "loss.extend(junior_loss_10)\n",
    "\n",
    "df_loss_junior = pd.DataFrame()\n",
    "df_loss_junior['period'] = label\n",
    "df_loss_junior['loss'] = loss"
   ]
  },
  {
   "cell_type": "code",
   "execution_count": 147,
   "metadata": {},
   "outputs": [
    {
     "data": {
      "text/plain": [
       "<seaborn.axisgrid.FacetGrid at 0x7ff3182982e0>"
      ]
     },
     "execution_count": 147,
     "metadata": {},
     "output_type": "execute_result"
    },
    {
     "data": {
      "image/png": "[encoded data removed]",
      "text/plain": [
       "<Figure size 434.125x360 with 1 Axes>"
      ]
     },
     "metadata": {
      "needs_background": "light"
     },
     "output_type": "display_data"
    }
   ],
   "source": [
    "sns.displot(df_loss_junior, x=\"loss\", hue=\"period\",bins=20)\n",
    "##plt.title('[5%, 15%] Tranche Loss Distribution over 5 and 10 Year')"
   ]
  },
  {
   "cell_type": "code",
   "execution_count": 145,
   "metadata": {},
   "outputs": [],
   "source": [
    "label = ['5 year' for i in range(len(senior_loss_5))]\n",
    "label2 = ['10 year' for i in range(len(senior_loss_10))]\n",
    "label.extend(label2)\n",
    "\n",
    "loss = senior_loss_5[:]\n",
    "loss.extend(senior_loss_10)\n",
    "\n",
    "df_loss_senior = pd.DataFrame()\n",
    "df_loss_senior['period'] = label\n",
    "df_loss_senior['loss'] = loss"
   ]
  },
  {
   "cell_type": "code",
   "execution_count": 148,
   "metadata": {},
   "outputs": [
    {
     "data": {
      "text/plain": [
       "<seaborn.axisgrid.FacetGrid at 0x7ff3185799d0>"
      ]
     },
     "execution_count": 148,
     "metadata": {},
     "output_type": "execute_result"
    },
    {
     "data": {
      "image/png": "[encoded data removed]",
      "text/plain": [
       "<Figure size 434.125x360 with 1 Axes>"
      ]
     },
     "metadata": {
      "needs_background": "light"
     },
     "output_type": "display_data"
    }
   ],
   "source": [
    "sns.displot(df_loss_senior, x=\"loss\", hue=\"period\",bins=15)\n",
    "##plt.title('[15%, 100%] Loss Distribution over 5 and 10 Year')"
   ]
  },
  {
   "cell_type": "code",
   "execution_count": 124,
   "metadata": {},
   "outputs": [],
   "source": [
    "label = ['[5%,15%] tranche' for i in range(len(junior_loss_5))]\n",
    "label2 = ['[15%,100%] tranche' for i in range(len(senior_loss_5))]\n",
    "label.extend(label2)\n",
    "\n",
    "loss = junior_loss_5[:]\n",
    "loss.extend(senior_loss_5)\n",
    "\n",
    "df_loss_5 = pd.DataFrame()\n",
    "df_loss_5['tranche'] = label\n",
    "df_loss_5['loss'] = loss"
   ]
  },
  {
   "cell_type": "code",
   "execution_count": 125,
   "metadata": {},
   "outputs": [
    {
     "data": {
      "text/plain": [
       "Text(0.5, 1.0, '5-year Loss Distribution by Tranche')"
      ]
     },
     "execution_count": 125,
     "metadata": {},
     "output_type": "execute_result"
    },
    {
     "data": {
      "image/png": "[encoded data removed]",
      "text/plain": [
       "<Figure size 499.25x360 with 1 Axes>"
      ]
     },
     "metadata": {
      "needs_background": "light"
     },
     "output_type": "display_data"
    }
   ],
   "source": [
    "sns.displot(df_loss_5, x=\"loss\", hue=\"tranche\")\n",
    "plt.title('5-year Loss Distribution by Tranche')"
   ]
  },
  {
   "cell_type": "code",
   "execution_count": 126,
   "metadata": {},
   "outputs": [],
   "source": [
    "label = ['[5%,15%] tranche' for i in range(len(junior_loss_10))]\n",
    "label2 = ['[15%,100%] tranche' for i in range(len(senior_loss_10))]\n",
    "label.extend(label2)\n",
    "\n",
    "loss = junior_loss_10[:]\n",
    "loss.extend(senior_loss_10)\n",
    "\n",
    "df_loss_10 = pd.DataFrame()\n",
    "df_loss_10['tranche'] = label\n",
    "df_loss_10['loss'] = loss"
   ]
  },
  {
   "cell_type": "code",
   "execution_count": 127,
   "metadata": {},
   "outputs": [
    {
     "data": {
      "text/plain": [
       "Text(0.5, 1.0, '10-year Loss Distribution by Tranche')"
      ]
     },
     "execution_count": 127,
     "metadata": {},
     "output_type": "execute_result"
    },
    {
     "data": {
      "image/png": "[encoded data removed]",
      "text/plain": [
       "<Figure size 499.25x360 with 1 Axes>"
      ]
     },
     "metadata": {
      "needs_background": "light"
     },
     "output_type": "display_data"
    }
   ],
   "source": [
    "sns.displot(df_loss_10, x=\"loss\", hue=\"tranche\")\n",
    "plt.title('10-year Loss Distribution by Tranche')"
   ]
  },
  {
   "cell_type": "code",
   "execution_count": null,
   "metadata": {},
   "outputs": [],
   "source": []
  },
  {
   "cell_type": "code",
   "execution_count": null,
   "metadata": {},
   "outputs": [],
   "source": []
  },
  {
   "cell_type": "code",
   "execution_count": null,
   "metadata": {},
   "outputs": [],
   "source": []
  }
 ],
 "metadata": {
  "kernelspec": {
   "display_name": "Python 3",
   "language": "python",
   "name": "python3"
  },
  "language_info": {
   "codemirror_mode": {
    "name": "ipython",
    "version": 3
   },
   "file_extension": ".py",
   "mimetype": "text/x-python",
   "name": "python",
   "nbconvert_exporter": "python",
   "pygments_lexer": "ipython3",
   "version": "3.8.5"
  }
 },
 "nbformat": 4,
 "nbformat_minor": 4
}
